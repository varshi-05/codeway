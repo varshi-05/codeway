{
 "cells": [
  {
   "cell_type": "code",
   "execution_count": 1,
   "id": "37249bc9",
   "metadata": {},
   "outputs": [
    {
     "name": "stdout",
     "output_type": "stream",
     "text": [
      "Requirement already satisfied: ttkbootstrap in /Users/varshitha/anaconda3/lib/python3.11/site-packages (1.10.1)\r\n",
      "Requirement already satisfied: pillow>=8.2.0 in /Users/varshitha/anaconda3/lib/python3.11/site-packages (from ttkbootstrap) (9.4.0)\r\n"
     ]
    }
   ],
   "source": [
    "!pip install ttkbootstrap"
   ]
  },
  {
   "cell_type": "code",
   "execution_count": 2,
   "id": "fdf847df",
   "metadata": {},
   "outputs": [],
   "source": [
    "import tkinter as tk\n",
    "from tkinter import ttk, messagebox\n",
    "from ttkbootstrap import Style\n",
    "import json"
   ]
  },
  {
   "cell_type": "code",
   "execution_count": 3,
   "id": "09cc2263",
   "metadata": {},
   "outputs": [],
   "source": [
    "class TodoListApp(tk.Tk):\n",
    "    def __init__(self):\n",
    "        super().__init__()\n",
    "\n",
    "        self.title(\"Todo List App\")\n",
    "        self.geometry(\"400x400\")\n",
    "        style = Style(theme=\"flatly\")\n",
    "        style.configure(\"Custon.TEntry\", foreground=\"gray\")\n",
    "\n",
    "        # Create input field for adding tasks\n",
    "        self.task_input = ttk.Entry(self, font=(\n",
    "            \"TkDefaultFont\", 16), width=30, style=\"Custon.TEntry\")\n",
    "        self.task_input.pack(pady=10)\n",
    "\n",
    "        # Set placeholder for input field\n",
    "        self.task_input.insert(0, \"Enter your todo here...\")\n",
    "\n",
    "        # Bind event to clear placeholder when input field is clicked\n",
    "        self.task_input.bind(\"<FocusIn>\", self.clear_placeholder)\n",
    "        # Bind event to restore placeholder when input field loses focus\n",
    "        self.task_input.bind(\"<FocusOut>\", self.restore_placeholder)\n",
    "\n",
    "        # Create button for adding tasks\n",
    "        ttk.Button(self, text=\"Add\", command=self.add_task).pack(pady=5)\n",
    "\n",
    "        # Create listbox to display added tasks\n",
    "        self.task_list = tk.Listbox(self, font=(\n",
    "            \"TkDefaultFont\", 16), height=10, selectmode=tk.NONE)\n",
    "        self.task_list.pack(fill=tk.BOTH, expand=True, padx=10, pady=10)\n",
    "\n",
    "        # Create buttons for marking tasks as done or deleting them\n",
    "        ttk.Button(self, text=\"Done\", style=\"success.TButton\",\n",
    "                   command=self.mark_done).pack(side=tk.LEFT, padx=10, pady=10)\n",
    "        ttk.Button(self, text=\"Delete\", style=\"danger.TButton\",\n",
    "                   command=self.delete_task).pack(side=tk.RIGHT, padx=10, pady=10)\n",
    "        \n",
    "        # Create buttton for displaying task statistics\n",
    "        ttk.Button(self, text=\"View Stats\", style=\"info.TButton\",\n",
    "                   command=self.view_stats).pack(side=tk.BOTTOM, pady=10)\n",
    "        \n",
    "        self.load_tasks()\n",
    "    \n",
    "    def view_stats(self):\n",
    "        done_count = 0\n",
    "        total_count = self.task_list.size()\n",
    "        for i in range(total_count):\n",
    "            if self.task_list.itemcget(i, \"fg\") == \"green\":\n",
    "                done_count += 1\n",
    "        messagebox.showinfo(\"Task Statistics\", f\"Total tasks: {total_count}\\nCompleted tasks: {done_count}\")\n",
    "\n",
    "    def add_task(self):\n",
    "        task = self.task_input.get()\n",
    "        if task != \"Enter your todo here...\":\n",
    "            self.task_list.insert(tk.END, task)\n",
    "            self.task_list.itemconfig(tk.END, fg=\"orange\")\n",
    "            self.task_input.delete(0, tk.END)\n",
    "            self.save_tasks()\n",
    "\n",
    "    def mark_done(self):\n",
    "        task_index = self.task_list.curselection()\n",
    "        if task_index:\n",
    "            self.task_list.itemconfig(task_index, fg=\"green\")\n",
    "            self.save_tasks()\n",
    "    \n",
    "    def delete_task(self):\n",
    "        task_index = self.task_list.curselection()\n",
    "        if task_index:\n",
    "            self.task_list.delete(task_index)\n",
    "            self.save_tasks()\n",
    "    \n",
    "    def clear_placeholder(self, event):\n",
    "        if self.task_input.get() == \"Enter your todo here...\":\n",
    "            self.task_input.delete(0, tk.END)\n",
    "            self.task_input.configure(style=\"TEntry\")\n",
    "\n",
    "    def restore_placeholder(self, event):\n",
    "        if self.task_input.get() == \"\":\n",
    "            self.task_input.insert(0, \"Enter your todo here...\")\n",
    "            self.task_input.configure(style=\"Custom.TEntry\")\n",
    "\n",
    "    def load_tasks(self):\n",
    "        try:\n",
    "            with open(\"tasks.json\", \"r\") as f:\n",
    "                data = json.load(f)\n",
    "                for task in data:\n",
    "                    self.task_list.insert(tk.END, task[\"text\"])\n",
    "                    self.task_list.itemconfig(tk.END, fg=task[\"color\"])\n",
    "        except FileNotFoundError:\n",
    "            pass\n",
    "    \n",
    "    def save_tasks(self):\n",
    "        data = []\n",
    "        for i in range(self.task_list.size()):\n",
    "            text = self.task_list.get(i)\n",
    "            color = self.task_list.itemcget(i, \"fg\")\n",
    "            data.append({\"text\": text, \"color\": color})\n",
    "        with open(\"tasks.json\", \"w\") as f:\n",
    "            json.dump(data, f)"
   ]
  },
  {
   "cell_type": "code",
   "execution_count": 4,
   "id": "3f5d6d6f",
   "metadata": {},
   "outputs": [],
   "source": [
    "if __name__ == '__main__':\n",
    "    app = TodoListApp()\n",
    "    app.mainloop()"
   ]
  },
  {
   "cell_type": "code",
   "execution_count": null,
   "id": "7dad4297",
   "metadata": {},
   "outputs": [],
   "source": []
  }
 ],
 "metadata": {
  "kernelspec": {
   "display_name": "Python 3 (ipykernel)",
   "language": "python",
   "name": "python3"
  },
  "language_info": {
   "codemirror_mode": {
    "name": "ipython",
    "version": 3
   },
   "file_extension": ".py",
   "mimetype": "text/x-python",
   "name": "python",
   "nbconvert_exporter": "python",
   "pygments_lexer": "ipython3",
   "version": "3.11.5"
  }
 },
 "nbformat": 4,
 "nbformat_minor": 5
}
