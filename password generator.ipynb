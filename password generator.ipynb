{
 "cells": [
  {
   "cell_type": "code",
   "execution_count": 4,
   "id": "6ba6c451",
   "metadata": {},
   "outputs": [],
   "source": [
    "import tkinter as tk\n",
    "from tkinter import messagebox\n",
    "import string\n",
    "import secrets"
   ]
  },
  {
   "cell_type": "code",
   "execution_count": 5,
   "id": "ca4fb9a0",
   "metadata": {},
   "outputs": [],
   "source": [
    "class PasswordGeneratorApp:\n",
    "    def __init__(self, master):\n",
    "        self.master = master\n",
    "        master.title(\"Password Generator\")\n",
    "\n",
    "        self.label = tk.Label(master, text=\"Password Length:\")\n",
    "        self.label.pack()\n",
    "\n",
    "        self.length_entry = tk.Entry(master)\n",
    "        self.length_entry.pack()\n",
    "\n",
    "        self.generate_button = tk.Button(master, text=\"Generate Password\", command=self.generate_password)\n",
    "        self.generate_button.pack()\n",
    "\n",
    "        self.password_label = tk.Label(master, text=\"\")\n",
    "        self.password_label.pack()\n",
    "\n",
    "    def generate_password(self):\n",
    "        try:\n",
    "            length = int(self.length_entry.get())\n",
    "            if length <= 0:\n",
    "                messagebox.showerror(\"Error\", \"Password length must be a positive integer\")\n",
    "                return\n",
    "        except ValueError:\n",
    "            messagebox.showerror(\"Error\", \"Please enter a valid number for password length\")\n",
    "            return\n",
    "\n",
    "        password = self.generate_strong_password(length)\n",
    "        self.password_label.config(text=\"Generated Password: \" + password)\n",
    "\n",
    "    def generate_strong_password(self, length):\n",
    "        alphabet = string.ascii_letters + string.digits + string.punctuation\n",
    "        while True:\n",
    "            password = ''.join(secrets.choice(alphabet) for i in range(length))\n",
    "            if (any(c.islower() for c in password)\n",
    "                    and any(c.isupper() for c in password)\n",
    "                    and any(c.isdigit() for c in password)\n",
    "                    and any(c in string.punctuation for c in password)):\n",
    "                return password"
   ]
  },
  {
   "cell_type": "code",
   "execution_count": null,
   "id": "02832427",
   "metadata": {},
   "outputs": [],
   "source": [
    "def main():\n",
    "    root = tk.Tk()\n",
    "    app = PasswordGeneratorApp(root)\n",
    "    root.mainloop()\n",
    "\n",
    "if __name__ == \"__main__\":\n",
    "    main()"
   ]
  },
  {
   "cell_type": "code",
   "execution_count": null,
   "id": "565af4c7",
   "metadata": {},
   "outputs": [],
   "source": []
  }
 ],
 "metadata": {
  "kernelspec": {
   "display_name": "Python 3 (ipykernel)",
   "language": "python",
   "name": "python3"
  },
  "language_info": {
   "codemirror_mode": {
    "name": "ipython",
    "version": 3
   },
   "file_extension": ".py",
   "mimetype": "text/x-python",
   "name": "python",
   "nbconvert_exporter": "python",
   "pygments_lexer": "ipython3",
   "version": "3.11.5"
  }
 },
 "nbformat": 4,
 "nbformat_minor": 5
}
